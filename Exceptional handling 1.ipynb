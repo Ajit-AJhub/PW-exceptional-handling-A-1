{
 "cells": [
  {
   "cell_type": "code",
   "execution_count": null,
   "id": "fe32782f-ce23-446b-add0-9937bb34652e",
   "metadata": {},
   "outputs": [],
   "source": [
    "Q1. What is an Exception in python? Write the difference,between Exceptions and syntax errors.\n",
    "\n",
    "Ans1- In Python, an exception is an event that occurs during the execution of a program that disrupts the normal flow of instructions. \n",
    "When an exceptional condition or error occurs, Python raises an exception, which can then be handled and managed by the program.\n",
    "\n",
    "Exceptions are typically caused by factors such as incorrect input, faulty logic, or unexpected conditions. \n",
    "They allow the program to handle error situations gracefully and provide appropriate feedback or take necessary actions.\n",
    "\n",
    "On the other hand, syntax errors are mistakes in the structure of the Python code.\n",
    "They occur when the interpreter encounters code that does not conform to the language's syntax rules. \n",
    "Syntax errors prevent the program from running altogether. \n",
    "They usually arise from typos, missing or misplaced punctuation, or incorrect indentation. \n",
    "\n",
    "The main differences between exceptions and syntax errors are as follows:\n",
    "\n",
    "Occurrence: Exceptions occur during the execution of a program, while syntax errors are detected by the interpreter before the\n",
    "program begins executing.\n",
    "\n",
    "Impact on program execution: When an exception occurs, it interrupts the normal flow of the program and requires special handling \n",
    "to avoid termination. \n",
    "Syntax errors, on the other hand, prevent the program from running at all until the errors are fixed.\n",
    "\n",
    "Error type: Exceptions represent a wide range of error conditions that can occur during program execution. \n",
    "They can be specific exceptions like 'ZeroDivisionError' or 'FileNotFoundError', or they can be custom exceptions defined by the \n",
    "programmer. \n",
    "Syntax errors, however, indicate violations of the Python language syntax and are generally limited to issues like incorrect syntax, \n",
    "indentation, or misspelled keywords.\n",
    "\n",
    "Handling: Exceptions can be caught and handled using try-except blocks, allowing the program to respond appropriately to exceptional \n",
    "situations. Syntax errors cannot be caught or handled directly; they must be fixed by correcting the code.\n",
    "\n",
    "In summary, exceptions are runtime errors that occur during program execution, while syntax errors are detected by the interpreter before\n",
    "the program runs and indicate issues with the code's structure and adherence to the Python syntax rules."
   ]
  },
  {
   "cell_type": "code",
   "execution_count": null,
   "id": "6bd38e57-9746-4be1-86e8-baa877f7c4df",
   "metadata": {},
   "outputs": [],
   "source": [
    "Q2. What happens when an exception is not handled? Explain with an example.\n",
    "\n",
    "Ans 2 - When an exception is not handled, it leads to what is known as an \"unhandled exception.\" \n",
    "In this case, the program cannot continue its normal execution and typically terminates abruptly. \n",
    "The exact behavior may vary depending on the programming language and environment.\n"
   ]
  },
  {
   "cell_type": "code",
   "execution_count": 4,
   "id": "9edd51c3-1a1c-4be6-a92a-2870cd25891c",
   "metadata": {},
   "outputs": [
    {
     "ename": "ZeroDivisionError",
     "evalue": "division by zero",
     "output_type": "error",
     "traceback": [
      "\u001b[0;31m---------------------------------------------------------------------------\u001b[0m",
      "\u001b[0;31mZeroDivisionError\u001b[0m                         Traceback (most recent call last)",
      "Cell \u001b[0;32mIn[4], line 8\u001b[0m\n\u001b[1;32m      5\u001b[0m num1 \u001b[38;5;241m=\u001b[39m \u001b[38;5;241m10\u001b[39m\n\u001b[1;32m      6\u001b[0m num2 \u001b[38;5;241m=\u001b[39m \u001b[38;5;241m0\u001b[39m\n\u001b[0;32m----> 8\u001b[0m result \u001b[38;5;241m=\u001b[39m \u001b[43mdivide_numbers\u001b[49m\u001b[43m(\u001b[49m\u001b[43mnum1\u001b[49m\u001b[43m,\u001b[49m\u001b[43m \u001b[49m\u001b[43mnum2\u001b[49m\u001b[43m)\u001b[49m\n\u001b[1;32m      9\u001b[0m \u001b[38;5;28mprint\u001b[39m(\u001b[38;5;124m\"\u001b[39m\u001b[38;5;124mResult:\u001b[39m\u001b[38;5;124m\"\u001b[39m, result)\n",
      "Cell \u001b[0;32mIn[4], line 2\u001b[0m, in \u001b[0;36mdivide_numbers\u001b[0;34m(a, b)\u001b[0m\n\u001b[1;32m      1\u001b[0m \u001b[38;5;28;01mdef\u001b[39;00m \u001b[38;5;21mdivide_numbers\u001b[39m(a, b):\n\u001b[0;32m----> 2\u001b[0m     result \u001b[38;5;241m=\u001b[39m \u001b[43ma\u001b[49m\u001b[43m \u001b[49m\u001b[38;5;241;43m/\u001b[39;49m\u001b[43m \u001b[49m\u001b[43mb\u001b[49m\n\u001b[1;32m      3\u001b[0m     \u001b[38;5;28;01mreturn\u001b[39;00m result\n",
      "\u001b[0;31mZeroDivisionError\u001b[0m: division by zero"
     ]
    }
   ],
   "source": [
    "def divide_numbers(a, b):\n",
    "    result = a / b\n",
    "    return result\n",
    "\n",
    "num1 = 10\n",
    "num2 = 0\n",
    "\n",
    "result = divide_numbers(num1, num2)\n",
    "print(\"Result:\", result)\n"
   ]
  },
  {
   "cell_type": "code",
   "execution_count": null,
   "id": "331b417b-260b-4956-9f11-f8c274a5c9d8",
   "metadata": {},
   "outputs": [],
   "source": [
    "As we can see when we run the code we cannot get it, but after using try block we can handle it."
   ]
  },
  {
   "cell_type": "code",
   "execution_count": 5,
   "id": "6e5df816-d5e8-45b1-a7ea-9fdf39ce994d",
   "metadata": {},
   "outputs": [
    {
     "name": "stdout",
     "output_type": "stream",
     "text": [
      "Error: Division by zero is not allowed.\n"
     ]
    }
   ],
   "source": [
    "def divide_numbers(a, b):\n",
    "    try:\n",
    "        result = a / b\n",
    "        return result\n",
    "    except ZeroDivisionError:\n",
    "        print(\"Error: Division by zero is not allowed.\")\n",
    "\n",
    "num1 = 10\n",
    "num2 = 0\n",
    "\n",
    "result = divide_numbers(num1, num2)\n",
    "if result is not None:\n",
    "    print(\"Result:\", result)\n"
   ]
  },
  {
   "cell_type": "code",
   "execution_count": null,
   "id": "5e7a20f3-f945-4a85-803a-9e8117d00937",
   "metadata": {},
   "outputs": [],
   "source": [
    "Q3. Which Python statements are used to catch and handle exceptions? Explain with an example.\n",
    "Ans3- \n",
    "In Python, the 'try' and 'except' statements are used to catch and handle exceptions. \n",
    "The 'try' block contains the code that might raise an exception, \n",
    "and the 'except' block is used to specify the code that should be executed if an exception occurs.\n",
    "Example-\n"
   ]
  },
  {
   "cell_type": "code",
   "execution_count": 6,
   "id": "28654e7d-7d38-4384-94b5-e7ad9a83814f",
   "metadata": {},
   "outputs": [
    {
     "name": "stdout",
     "output_type": "stream",
     "text": [
      "An exception occurred: Division by zero!\n"
     ]
    }
   ],
   "source": [
    "try:\n",
    "    x = 10 / 0  \n",
    "    print(\"This line will not be executed\")\n",
    "except ZeroDivisionError:\n",
    "    print(\"An exception occurred: Division by zero!\")\n",
    "\n",
    "    "
   ]
  },
  {
   "cell_type": "code",
   "execution_count": null,
   "id": "fa249d6e-66ee-4fae-8b25-9c2fea662004",
   "metadata": {},
   "outputs": [],
   "source": [
    "Q4. Explain with an example:\n",
    "\n",
    "a. try and else.\n",
    "b. finally\n",
    "c. raise\n",
    "\n",
    "Ans4- a. try and else:\n",
    "\n",
    "    The try and else statements are used in Python for handling exceptions. \n",
    "The try block is used to enclose the code that may potentially raise an exception. \n",
    "If an exception occurs within the try block, it is caught and handled. \n",
    "However, if no exception is raised, the code within the else block is executed.\n"
   ]
  },
  {
   "cell_type": "code",
   "execution_count": 10,
   "id": "79bfc79c-c16d-47fb-83d4-1057fccafac9",
   "metadata": {},
   "outputs": [
    {
     "name": "stdout",
     "output_type": "stream",
     "text": [
      "The result of division is: 3.0\n",
      "Error: Division by zero!\n"
     ]
    }
   ],
   "source": [
    "def divide(a, b):\n",
    "    try:\n",
    "        result = a / b\n",
    "    except ZeroDivisionError:\n",
    "        print(\"Error: Division by zero!\")\n",
    "    else:\n",
    "        print(\"The result of division is:\", result)\n",
    "\n",
    "divide(6, 2)   \n",
    "divide(6, 0)   \n"
   ]
  },
  {
   "cell_type": "code",
   "execution_count": null,
   "id": "d32f3e5d-9fb2-4c10-b37b-2f2ddf6b4063",
   "metadata": {},
   "outputs": [],
   "source": [
    "b. finally:\n",
    "\n",
    "    The finally statement is used in Python along with the try statement to define a block of code that will always be executed,\n",
    "regardless of whether an exception is raised or not. \n",
    "It is typically used to perform cleanup actions or release resources that need to be done \n",
    "regardless of the outcome of the preceding code."
   ]
  },
  {
   "cell_type": "code",
   "execution_count": 11,
   "id": "92dd8971-27b6-40ae-94da-b6adc2758c15",
   "metadata": {},
   "outputs": [
    {
     "name": "stdout",
     "output_type": "stream",
     "text": [
      "The result of division is: 3.0\n",
      "Division operation complete.\n",
      "Error: Division by zero!\n",
      "Division operation complete.\n"
     ]
    }
   ],
   "source": [
    "def divide(a, b):\n",
    "    try:\n",
    "        result = a / b\n",
    "    except ZeroDivisionError:\n",
    "        print(\"Error: Division by zero!\")\n",
    "    else:\n",
    "        print(\"The result of division is:\", result)\n",
    "    finally:\n",
    "        print(\"Division operation complete.\")\n",
    "\n",
    "divide(6, 2)   \n",
    "divide(6, 0)  \n"
   ]
  },
  {
   "cell_type": "code",
   "execution_count": null,
   "id": "6dfbfe8b-711c-4f56-80b5-4ea6831d6428",
   "metadata": {},
   "outputs": [],
   "source": [
    "c. raise:\n",
    "The raise statement is used in Python to raise an exception manually. \n",
    "It allows us to generate our own exceptions or propagate existing exceptions to higher levels of the program.\n",
    "When an exception is raised, the program flow is interrupted,\n",
    "and the closest exception handler is searched for to handle the raised exception.\n",
    "\n"
   ]
  },
  {
   "cell_type": "code",
   "execution_count": 14,
   "id": "2ffba260-c9c3-470f-bc7e-49fa56168e60",
   "metadata": {},
   "outputs": [
    {
     "name": "stdout",
     "output_type": "stream",
     "text": [
      "Age is valid.\n",
      "Error: Age cannot be negative.\n"
     ]
    }
   ],
   "source": [
    "def validate_age(age):\n",
    "    if age < 0:\n",
    "        raise ValueError(\"Age cannot be negative.\")\n",
    "    elif age < 18:\n",
    "        raise ValueError(\"You must be at least 18 years old.\")\n",
    "    else:\n",
    "        print(\"Age is valid.\")\n",
    "\n",
    "try:\n",
    "    validate_age(20)\n",
    "    validate_age(-5)\n",
    "except ValueError as e:\n",
    "    print(\"Error:\", str(e))\n",
    "\n",
    "\n"
   ]
  },
  {
   "cell_type": "code",
   "execution_count": null,
   "id": "bd7e28c7-abfd-40eb-a45c-61d558ad07dc",
   "metadata": {},
   "outputs": [],
   "source": [
    "Q5. What are Custom Exceptions in python? Why do we need Custom Exceptions? Explain with an example.\n",
    "\n",
    "Ans 5- \n",
    "In Python, custom exceptions are user-defined exceptions that allow us to create our own error types based on specific conditions\n",
    "or situations in our code. While Python provides a wide range of built-in exceptions for handling common errors, \n",
    "custom exceptions give you the flexibility to handle exceptional cases that are specific to our program or application.\n",
    "\n",
    "There are several reasons why we might need to create custom exceptions:\n",
    "\n",
    "1.Specific Error Handling: Custom exceptions allow us to differentiate between different types of errors and handle them in specific ways. \n",
    "By defining custom exceptions, we can provide more informative error messages and perform specialized error handling operations.\n",
    "\n",
    "2.Code Readability and Maintainability: By using custom exceptions, we can make our code more readable and maintainable. \n",
    "Custom exceptions provide a clear indication of the possible errors that can occur in a particular context,\n",
    "making it easier for other developers (including ourself) to understand and maintain the code.\n",
    "\n",
    "3.Abstraction and Encapsulation: Custom exceptions help us encapsulate error-handling logic within our code. \n",
    "By raising and catching custom exceptions, we can abstract away the implementation details of error handling, allowing we to\n",
    "separate error handling concerns from the main code logic.\n"
   ]
  },
  {
   "cell_type": "code",
   "execution_count": 16,
   "id": "d571946d-2000-4e8d-b5b0-a076d5ba38da",
   "metadata": {},
   "outputs": [
    {
     "name": "stdout",
     "output_type": "stream",
     "text": [
      "Insufficient funds in Savings. Required amount: 1500\n"
     ]
    }
   ],
   "source": [
    "class InsufficientFundsError(Exception):\n",
    "    def __init__(self, account, amount):\n",
    "        self.account = account\n",
    "        self.amount = amount\n",
    "        super().__init__(f\"Insufficient funds in {account}. Required amount: {amount}\")\n",
    "\n",
    "def withdraw(account, amount):\n",
    "    balance = 1000  \n",
    "    if amount > balance:\n",
    "        raise InsufficientFundsError(account, amount)\n",
    "    else:\n",
    "        balance -= amount\n",
    "        print(f\"Withdrawal of {amount} from {account} successful. Remaining balance: {balance}\")\n",
    "\n",
    "try:\n",
    "    withdraw(\"Savings\", 1500)\n",
    "except InsufficientFundsError as e:\n",
    "    print(e)\n"
   ]
  },
  {
   "cell_type": "code",
   "execution_count": null,
   "id": "649c80c8-4abc-432d-b30b-346f68a06bfb",
   "metadata": {},
   "outputs": [],
   "source": [
    "Q6. Create a custom exception class. Use this class to handle an exception.\n",
    "Ans6-\n"
   ]
  },
  {
   "cell_type": "code",
   "execution_count": 17,
   "id": "10f448d9-bce7-4dca-8d83-d31086b4072a",
   "metadata": {},
   "outputs": [
    {
     "name": "stdout",
     "output_type": "stream",
     "text": [
      "Custom exception caught!\n",
      "Exception message: This is a custom exception.\n"
     ]
    }
   ],
   "source": [
    "class CustomException(Exception):\n",
    "    def __init__(self, message):\n",
    "        self.message = message\n",
    "        super().__init__(self.message)\n",
    "\n",
    "try:\n",
    "    \n",
    "    raise CustomException(\"This is a custom exception.\")\n",
    "except CustomException as e:\n",
    "    print(\"Custom exception caught!\")\n",
    "    print(\"Exception message:\", e.message)\n"
   ]
  },
  {
   "cell_type": "code",
   "execution_count": null,
   "id": "198f63bb-ca6d-4a4e-a82a-550791c2ec97",
   "metadata": {},
   "outputs": [],
   "source": []
  }
 ],
 "metadata": {
  "kernelspec": {
   "display_name": "Python 3 (ipykernel)",
   "language": "python",
   "name": "python3"
  },
  "language_info": {
   "codemirror_mode": {
    "name": "ipython",
    "version": 3
   },
   "file_extension": ".py",
   "mimetype": "text/x-python",
   "name": "python",
   "nbconvert_exporter": "python",
   "pygments_lexer": "ipython3",
   "version": "3.10.8"
  }
 },
 "nbformat": 4,
 "nbformat_minor": 5
}
